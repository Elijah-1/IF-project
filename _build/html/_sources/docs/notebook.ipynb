{
  "cells": [
    {
      "cell_type": "markdown",
      "metadata": {},
      "source": [
        "# Milieugevolgen van de Uitstoot van Broeikasgassen\n",
        "![image](images/home8.png)"
      ]
    },
    {
      "cell_type": "code",
      "execution_count": null,
      "metadata": {
        "tags": [
          "remove-input"
        ],
        "vscode": {
          "languageId": "plaintext"
        }
      },
      "outputs": [],
      "source": [
        "import plotly.graph_objs as go\n",
        "import plotly.express as px\n",
        "import pandas as pd\n",
        "import numpy as np\n",
        "from scipy.stats import pearsonr\n",
        "\n",
        "nd_df = pd.read_csv('https://raw.githubusercontent.com/Elijah-1/IV-dataset-emissions/main/disaster-events%20new.csv')\n",
        "ghg_df = pd.read_csv('https://raw.githubusercontent.com/Elijah-1/IV-dataset-emissions/main/transformed_data_separate_columns.csv')\n",
        "\n",
        "#try:\n",
        "    #disaster_data_country = pd.read_csv('https://raw.githubusercontent.com/Elijah-1/IV-dataset-emissions/main/1970-2021_DISASTERS.xlsx%20-%20emdat%20data.csv',on_bad_lines='skip')\n",
        "#except pd.errors.ParserError as e:\n",
        "    #print(f\"Error parsing disaster data: {e}\")\n",
        "\n",
        "# Load the emissions data\n",
        "#emissions_data_country = pd.read_csv('https://raw.githubusercontent.com/Elijah-1/IV-dataset-emissions/main/global-co2-fossil-plus-land-use.csv')\n",
        "\n",
        "# remove last year and 1970- years from natural disaster dataset\n",
        "nd_df = nd_df[nd_df['Year'] >= 1970]\n",
        "nd_df = nd_df[nd_df['Year'] != 2023]\n",
        "nd_df = nd_df[nd_df['Year'] != 2024]\n",
        "\n",
        "# emissions only all per year\n",
        "ghg_all_df = ghg_df[ghg_df['Substance'] == 'ALL'][['Year', 'Emissions']]\n",
        "\n",
        "# emissions excluding all per year\n",
        "ghg_ex_df = ghg_df[ghg_df['Substance'] != 'ALL']\n",
        "\n",
        "# natural disasters only all disasters per year\n",
        "nd_all_df = nd_df[nd_df['Entity'] == 'All disasters'][['Year', 'Disasters']]\n",
        "\n",
        "# natural disasters excluding all disasters {wildcard} per year\n",
        "nd_ex_df = nd_df[~nd_df['Entity'].str.startswith('All disasters')]\n",
        "\n",
        "# Extract disaster data for \"all disasters\"\n",
        "nd_all_disasters_df = nd_df[nd_df['Entity'] == 'All disasters']\n",
        "\n",
        "# merged\n",
        "merged_all_df = pd.merge(ghg_all_df, nd_all_df, on='Year', how='inner')\n",
        "\n",
        "disaster_counts = nd_ex_df.groupby('Entity')['Disasters'].sum().reset_index()"
      ]
    },
    {
      "cell_type": "markdown",
      "metadata": {},
      "source": [
        "De wereld wordt steeds meer bedreigd door natuurrampen, een probleem dat verergerd wordt door de groeiende uitstoot van broeikasgassen. Mensen die in kwetsbare gebieden wonen, zijn ervan overtuigd dat de toename in frequentie en hevigheid van deze rampen direct verband houdt met de stijgende emissies. Dit heeft verwoestende effecten op hun levens, eigendommen en lokale economieën. Studies tonen aan dat broeikasgassen, veroorzaakt door menselijke activiteiten, de klimaatverandering versnellen. Dit leidt tot extremere weersomstandigheden zoals overstromingen en hittegolven. Anderen beweren echter dat veel van deze veranderingen te wijten zijn aan natuurlijke variaties in het klimaat en dat de impact van broeikasgassen wordt overdreven en dat adaptieve strategieën en technologieën voldoende zijn om eventuele negatieve effecten te mitigeren. Deze uiteenlopende perspectieven suggereren dat er verschillen in interpretatie en prioriteit zijn bij het aanpakken van de gevolgen van klimaatverandering."
      ]
    },
    {
      "cell_type": "markdown",
      "metadata": {},
      "source": [
        "### Perspectief 1\n",
        "De uitstoot van broeikasgassen heeft een significante invloed op de frequentie en intensiteit van natuurrampen.\n",
        "\n",
        "##### Argumenten\n",
        "1. De meest voorkomende natuurramp is overstroming, die wordt veroorzaakt door de verhoogde temperatuur waardoor gletsjers smelten (zie Grafiek 2 & relevante literatuur).\n",
        "  * Uitleg: Door de stijgende temperaturen smelten gletsjers sneller, wat leidt tot een toename van het waterniveau in rivieren en oceanen. Dit veroorzaakt vaker overstromingen, wat een directe impact heeft op gemeenschappen en infrastructuren.\n",
        "2. De positieve Pearson-correlatiecoëfficiënten laten zien dat er een positief verband is tussen het aantal natuurrampen en de uitstoot van broeikasgassen.\n",
        "  * Uitleg: Statistische analyses tonen aan dat er een positieve correlatie bestaat tussen de toename van broeikasgasuitstoot en de frequentie van natuurrampen. Dit suggereert dat hogere uitstootniveaus bijdragen aan een verhoogde kans op natuurrampen.\n",
        "\n",
        "### Perspectief 2\n",
        "Het tweede perspectief is dat de uitstoot van broeikasgassen een minimale invloed heeft op natuurrampen.\n",
        "\n",
        "##### Argumenten\n",
        "1. Hoewel de uitstoot van broeikasgassen over de jaren is gestegen, is het aantal natuurrampen niet significant toegenomen (zie Grafiek 1 & 4).\n",
        "  * Uitleg: Ondanks de gestage toename van broeikasgasuitstoot, blijft het aantal natuurrampen relatief constant. Dit wijst erop dat andere factoren mogelijk een grotere rol spelen in het veroorzaken van natuurrampen dan de uitstoot van broeikasgassen.\n",
        "2. Het zwakke positieve verband tussen natuurrampen en de uitstoot van broeikasgassen kan worden verklaard door andere factoren.\n",
        "  * Uitleg: Hoewel er een zwakke positieve correlatie bestaat, kan deze relatie worden beïnvloed door andere variabelen zoals natuurlijke klimaatcycli, vulkanische activiteit, en veranderingen in landgebruik. Deze factoren kunnen de waargenomen toename in natuurrampen beter verklaren dan de uitstoot van broeikasgassen alleen.\n",
        "3. (Zwak) Power Industry veroorzaakt de meeste broeikasgasuitstoot maar is onmisbaar voor landen, waardoor het reduceren ervan problematisch is vanwege economische en maatschappelijke afhankelijkheid..\n",
        "  * De power industry veroorzaakt de meeste broeikasgasuitstoot vanwege het gebruik van fossiele brandstoffen zoals steenkool en aardgas. Ondanks deze impact is de sector essentieel voor economische groei, industriële productie en dagelijkse functies zoals elektriciteit voor huishoudens en bedrijven. Dit maakt het verminderen van de uitstoot uitdagend, omdat landen afhankelijk zijn van de continuïteit van de elektriciteitsindustrie voor hun basisbehoeften en economische stabiliteit.\n",
        "\n"
      ]
    },
    {
      "cell_type": "code",
      "execution_count": null,
      "metadata": {
        "tags": [
          "remove-input"
        ],
        "vscode": {
          "languageId": "plaintext"
        }
      },
      "outputs": [],
      "source": [
        "# Assuming nd_ex_df is already defined\n",
        "disaster_types = nd_ex_df['Entity'].unique()\n",
        "colors = px.colors.qualitative.T10[:len(disaster_types)]\n",
        "color_map = {disaster: colors[i % len(colors)] for i, disaster in enumerate(disaster_types)}\n",
        "\n",
        "# Create the stacked bar plot\n",
        "fig_bar = go.Figure()\n",
        "\n",
        "for disaster in disaster_types:\n",
        "    disaster_data = nd_ex_df[nd_ex_df['Entity'] == disaster]\n",
        "    fig_bar.add_trace(go.Bar(\n",
        "        x=disaster_data['Year'],\n",
        "        y=disaster_data['Disasters'],\n",
        "        name=disaster,\n",
        "        marker=dict(color=color_map[disaster])\n",
        "    ))\n",
        "\n",
        "fig_bar.update_layout(\n",
        "    barmode='stack',\n",
        "    title='Number of Disasters per Type per Year',\n",
        "    xaxis=dict(title='Year', titlefont=dict(size=14), tickfont=dict(size=12)),\n",
        "    yaxis=dict(title='Number of Disasters', titlefont=dict(size=14), tickfont=dict(size=12)),\n",
        "    legend=dict(\n",
        "        title='Disaster Type',\n",
        "        font=dict(size=14),\n",
        "        orientation='h',\n",
        "        yanchor='top',\n",
        "        y=-0.3,  # Adjust this value to move the legend further below the graph\n",
        "        xanchor='center',\n",
        "        x=0.5\n",
        "    ),\n",
        "    height=600 # Increase height for better visibility\n",
        ")\n",
        "\n",
        "fig_bar.show()"
      ]
    },
    {
      "cell_type": "markdown",
      "metadata": {},
      "source": [
        "Deze grafiek laat het aantal natuurrampen zien van 1970 tot 2022, onderverdeeld in verschillende categorieën. Er is een duidelijke toename te zien van het aantal natuurrampen tussen 1970 en 2000. Na 2000 is er echter geen significante stijging of daling meer waarneembaar, wat resulteert in een vergelijkbaar aantal natuurrampen in 2022 ten opzichte van 2000."
      ]
    },
    {
      "cell_type": "code",
      "execution_count": null,
      "metadata": {
        "tags": [
          "remove-input"
        ],
        "vscode": {
          "languageId": "plaintext"
        }
      },
      "outputs": [],
      "source": [
        "fig_pie = go.Figure(go.Pie(\n",
        "    labels=disaster_counts['Entity'],\n",
        "    values=disaster_counts['Disasters'],\n",
        "    hole=0.8,\n",
        "    marker=dict(colors=[color_map[disaster] for disaster in disaster_counts['Entity']]),\n",
        "    textposition='outside',\n",
        "    textinfo='percent'\n",
        "))\n",
        "\n",
        "fig_pie.update_layout(\n",
        "    title_text='Occurrences of Each Disaster',\n",
        ")\n",
        "\n",
        "fig_pie.show()"
      ]
    },
    {
      "cell_type": "markdown",
      "metadata": {},
      "source": [
        "Grafiek 2 is een cirkeldiagram dat de verdeling van typen natuurrampen laat zien van 1970 tot 2022. Uit de grafiek blijkt dat overstromingen de meest voorkomende natuurramp zijn, gevolgd door extreme weersomstandigheden. Deze twee typen natuurrampen kunnen worden veroorzaakt door de stijgende broeikasgasuitstoot, die leidt tot hogere temperaturen."
      ]
    },
    {
      "cell_type": "code",
      "execution_count": null,
      "metadata": {
        "tags": [
          "remove-input"
        ],
        "vscode": {
          "languageId": "plaintext"
        }
      },
      "outputs": [],
      "source": [
        "fig = go.Figure()\n",
        "fig.add_trace(go.Scatter(x=ghg_all_df['Year'], y=ghg_all_df['Emissions'], mode='lines+markers', name='Emissions'))\n",
        "fig.update_layout(\n",
        "    title='Global Greenhouse Gas Emissions Over Years',\n",
        "    xaxis_title='Year',\n",
        "    yaxis_title='Emissions',\n",
        "    template='plotly_white',\n",
        "   # paper_bgcolor='#d1e8d2',  # Background color for the whole output\n",
        "   # plot_bgcolor='#d1e8d2', \n",
        "    margin=dict(l=50, r=50, b=115, t=100),  # Adjust margins as needed\n",
        "    annotations=[\n",
        "        dict(\n",
        "            x=0.5,\n",
        "            y=-0.33,\n",
        "            xref='paper',\n",
        "            yref='paper',\n",
        "            text='Deze grafiek laat de trends zien in broeikasgasemissies van 1970 tot 2022. Over het algemeen vertoont de grafiek een toename van de <br> broeikasgasuitstoot. Met name valt op dat de stijging tussen 2000 en 2022 aanzienlijk sterker is dan tussen 1970 en 2000.',\n",
        "            showarrow=False,\n",
        "            align='center',\n",
        "            font=dict(\n",
        "                family='Arial',\n",
        "                size=12,\n",
        "                color='black'\n",
        "            )\n",
        "        )\n",
        "    ]\n",
        ")\n",
        "\n",
        "fig.show()"
      ]
    },
    {
      "cell_type": "code",
      "execution_count": null,
      "metadata": {
        "tags": [
          "remove-input"
        ],
        "vscode": {
          "languageId": "plaintext"
        }
      },
      "outputs": [],
      "source": [
        "aggregated_df = ghg_ex_df.groupby(['Year', 'Sector'], as_index=False)['Emissions'].sum()\n",
        "\n",
        "# Pivot the dataframe to have years as rows and sectors as columns\n",
        "pivot_df = aggregated_df.pivot(index='Year', columns='Sector', values='Emissions')\n",
        "\n",
        "# Create the figure\n",
        "fig = go.Figure()\n",
        "\n",
        "# Add traces for each sector\n",
        "for sector in pivot_df.columns:\n",
        "    fig.add_trace(go.Scatter(\n",
        "        x=pivot_df.index,\n",
        "        y=pivot_df[sector],\n",
        "        mode='lines+markers',\n",
        "        name=sector,\n",
        "    ))\n",
        "\n",
        "# Update layout\n",
        "fig.update_layout(\n",
        "    title=\"GHG Emissions by Sector (1970-2022)\",\n",
        "    xaxis_title=\"Year\",\n",
        "    yaxis_title=\"Emissions\",\n",
        "    legend_title=\"Sector\",\n",
        "    hovermode=\"x\",\n",
        "    template=\"plotly_white\",\n",
        "    legend=dict(\n",
        "        orientation=\"h\",\n",
        "        yanchor=\"top\",\n",
        "        y=-0.2,  # Adjust this value to move the legend further down\n",
        "        xanchor=\"center\",\n",
        "        x=0.5\n",
        "    ),\n",
        "    annotations=[\n",
        "        dict(\n",
        "            xref='paper', yref='paper',\n",
        "            x=0.5, y=-0.45,\n",
        "            showarrow=False,\n",
        "            text=\"De grafiek toont de uitstoot van broeikasgassen (GHG) per sector van 1970 tot 2022, met sectoren zoals landbouw, <br> gebouwen, brandstofwinning, industriële verbranding, de energiesector, processen, transport en afval.\",\n",
        "            font=dict(size=12),\n",
        "            xanchor='center',\n",
        "            yanchor='top'\n",
        "        )\n",
        "    ],\n",
        "    margin=dict(l=20, r=20, t=80, b=170)\n",
        ")\n",
        "\n",
        "# Show the figure\n",
        "fig.show()"
      ]
    },
    {
      "cell_type": "markdown",
      "metadata": {},
      "source": [
        "Duidelijke trends zijn zichtbaar: de energiesector vertoont een significante toename in uitstoot, terwijl sectoren als afval en transport relatief stabiel zijn gebleven.\n",
        "De grafiek biedt inzicht in de historische ontwikkelingen van GHG-uitstoot per sector. Deze informatie is cruciaal voor het ontwikkelen van strategieën tegen klimaatverandering en helpt beleidsmakers en onderzoekers om beter geïnformeerde beslissingen te nemen."
      ]
    },
    {
      "cell_type": "code",
      "execution_count": null,
      "metadata": {
        "tags": [
          "remove-input"
        ],
        "vscode": {
          "languageId": "plaintext"
        }
      },
      "outputs": [],
      "source": [
        "sectors = ghg_ex_df['Sector'].unique()\n",
        "disaster_types = nd_ex_df['Entity'].unique()\n",
        "\n",
        "def calculate_pearson(df1, df2, sector):\n",
        "    correlations = []\n",
        "    for disaster in disaster_types:\n",
        "        merged_df = pd.merge(\n",
        "            df1[(df1['Sector'] == sector)][['Year', 'Emissions']],\n",
        "            df2[(df2['Entity'] == disaster)][['Year', 'Disasters']],\n",
        "            on='Year'\n",
        "        )\n",
        "        if not merged_df.empty:\n",
        "            corr, _ = pearsonr(merged_df['Emissions'], merged_df['Disasters'])\n",
        "            correlations.append(corr)\n",
        "        else:\n",
        "            correlations.append(None)\n",
        "    return correlations\n",
        "\n",
        "def calculate_all_disasters_pearson(df1, df2, sector):\n",
        "    merged_df = pd.merge(\n",
        "        df1[(df1['Sector'] == sector)][['Year', 'Emissions']],\n",
        "        df2[['Year', 'Disasters']],\n",
        "        on='Year'\n",
        "    )\n",
        "    if not merged_df.empty:\n",
        "        corr, _ = pearsonr(merged_df['Emissions'], merged_df['Disasters'])\n",
        "        return corr\n",
        "    else:\n",
        "        return None\n",
        "\n",
        "# Initial calculation for the first sector\n",
        "initial_sector = sectors[0]\n",
        "correlations = calculate_pearson(ghg_ex_df, nd_ex_df, initial_sector)\n",
        "all_disasters_correlation = calculate_all_disasters_pearson(ghg_ex_df, nd_all_disasters_df, initial_sector)\n",
        "\n",
        "# Define colors\n",
        "colors = px.colors.qualitative.T10\n",
        "\n",
        "# Create the initial bar plot\n",
        "fig = go.Figure(data=[\n",
        "    go.Bar(name='Individual Disasters', x=disaster_types, y=correlations, marker_color=colors),\n",
        "    go.Bar(name='All Disasters', x=['All Disasters'], y=[all_disasters_correlation], marker_color=colors[1])\n",
        "])\n",
        "\n",
        "fig.update_layout(\n",
        "    title=f'Pearson Correlation for all the Sectors',\n",
        "    xaxis_title='Disaster Type',\n",
        "    yaxis_title='Pearson Correlation Coefficient',\n",
        "    barmode='group',\n",
        "    showlegend=False  # Remove the legend\n",
        ")\n",
        "\n",
        "# Create the dropdown menu\n",
        "dropdown_buttons = [\n",
        "    dict(label=sector,\n",
        "         method='update',\n",
        "         args=[{\n",
        "             'y': [calculate_pearson(ghg_ex_df, nd_ex_df, sector),\n",
        "                   [calculate_all_disasters_pearson(ghg_ex_df, nd_all_disasters_df, sector)]],\n",
        "             'marker': [\n",
        "                 {'color': colors[:len(disaster_types)]},  # Colors for individual disasters\n",
        "                 {'color': [colors[1]]}  # Color for all disasters\n",
        "             ],\n",
        "             'title': f'Pearson Correlation for {sector} Sector'\n",
        "         }])\n",
        "    for sector in sectors\n",
        "]\n",
        "\n",
        "fig.update_layout(\n",
        "    updatemenus=[\n",
        "        dict(\n",
        "            buttons=dropdown_buttons,\n",
        "            direction='down',\n",
        "            pad={'r': 10, 't': 10},\n",
        "            showactive=True,\n",
        "            x=0.1,\n",
        "            xanchor='left',\n",
        "            y=1.1,\n",
        "            yanchor='top'\n",
        "        )\n",
        "    ],\n",
        "    annotations=[\n",
        "        dict(\n",
        "            xref='paper', yref='paper',\n",
        "            x=0.5, y=-0.5,\n",
        "            showarrow=False,\n",
        "            text=\"De grafieken tonen de Pearson-correlatiecoëfficiënten voor verschillende rampen en <br> hun impact op diverse sectoren. Met de knop kun je selecteren welke sector je wilt bekijken.\",\n",
        "            font=dict(size=12),\n",
        "            xanchor='center',\n",
        "            yanchor='top'\n",
        "        )\n",
        "    ],\n",
        "    margin=dict(l=20, r=20, t=80, b=180)\n",
        ")\n",
        "\n",
        "fig.show()"
      ]
    },
    {
      "cell_type": "markdown",
      "metadata": {},
      "source": [
        "Extreem weer en overstromingen hebben consequent de hoogste positieve correlaties in meerdere sectoren, waaronder landbouw, brandstofwinning, industriële verbranding, de energiesector, processen, transport en afval. Dit wijst erop dat deze rampen de grootste invloed hebben op deze sectoren. In de landbouwsector vertonen extreem weer en overstromingen de grootste impact, terwijl droogte een gematigde positieve correlatie heeft. Bij gebouwen zijn aardbevingen en extreem weer het meest invloedrijk. Over het geheel genomen benadrukken de grafieken dat extreem weer en overstromingen de grootste bedreigingen vormen voor diverse economische sectoren, wat cruciale informatie biedt voor beleidsmakers en onderzoekers bij het ontwikkelen van veerkracht strategieën."
      ]
    },
    {
      "cell_type": "code",
      "execution_count": null,
      "metadata": {
        "tags": [
          "remove-input"
        ],
        "vscode": {
          "languageId": "plaintext"
        }
      },
      "outputs": [],
      "source": [
        "\n",
        "fig = go.Figure()\n",
        "fig.add_trace(go.Scatter(\n",
        "    x=merged_all_df['Emissions'], \n",
        "    y=merged_all_df['Disasters'],\n",
        "    mode='markers', \n",
        "    name='Emissions vs. Disasters',\n",
        "    marker=dict(\n",
        "        color=merged_all_df['Year'], \n",
        "        size=10, \n",
        "        colorscale='Viridis', \n",
        "        showscale=True\n",
        "    )\n",
        "))\n",
        "\n",
        "# Update layout\n",
        "fig.update_layout(\n",
        "    title='Emissions vs. Disasters',\n",
        "    xaxis_title='Emissions',\n",
        "    yaxis_title='Disasters',\n",
        "    template='plotly_white',\n",
        "    annotations=[\n",
        "        dict(\n",
        "            xref='paper', yref='paper',\n",
        "            x=0.5, y=-0.20,\n",
        "            showarrow=False,\n",
        "            text=\"Deze grafiek toont de relatie tussen jaarlijkse broeikasgasemissies en het aantal natuurrampen van 1970 tot 2022.<br> Elk punt vertegenwoordigt een jaar, waarbij de kleurgradaties de tijdsprogressie aangeven.\",\n",
        "            font=dict(size=12),\n",
        "            xanchor='center',\n",
        "            yanchor='top'\n",
        "        )\n",
        "    ],\n",
        "    margin=dict(l=20, r=20, t=80, b=115)\n",
        ")\n",
        "\n",
        "# Show figure\n",
        "fig.show()"
      ]
    },
    {
      "cell_type": "markdown",
      "metadata": {},
      "source": [
        "**DRAFT**"
      ]
    },
    {
      "cell_type": "markdown",
      "metadata": {
        "tags": [
          "remove-input"
        ],
        "vscode": {
          "languageId": "plaintext"
        }
      },
      "source": [
        "disaster_data_filtered = disaster_data_country[(disaster_data_country['Year'] >= 1970) & (disaster_data_country['Year'] <= 2022)]\n",
        "\n",
        "# Aggregate the number of disasters per country\n",
        "disasters_per_country = disaster_data_filtered.groupby('Country')['Seq'].sum().reset_index()\n",
        "\n",
        "# Prepare emissions data (filtering and renaming 'Entity' to 'Country')\n",
        "emissions_data_filtered = emissions_data_country[(emissions_data_country['Year'] >= 1970) & (emissions_data_country['Year'] <= 2022)]\n",
        "emissions_data_filtered = emissions_data_filtered.rename(columns={'Entity': 'Country'})\n",
        "\n",
        "# Merge the datasets to include emissions information\n",
        "merged_data = pd.merge(disasters_per_country, emissions_data_filtered, on='Country', how='left')\n",
        "\n",
        "fig = px.choropleth(\n",
        "    merged_data,\n",
        "    locations='Country',\n",
        "    locationmode='country names',\n",
        "    color='Seq',  # Use the aggregated disaster count\n",
        "    hover_name='Country',\n",
        "    hover_data={'Annual CO₂ emissions including land-use change': True},  # Adjust column name if needed\n",
        "    title='Total Disasters per Country (1970-2022)',\n",
        "    projection='natural earth',\n",
        ")\n",
        "\n",
        "# Update layout to include emissions data on click\n",
        "fig.update_layout(\n",
        "    clickmode='event+select',\n",
        "    hoverlabel=dict(bgcolor=\"white\", font_size=16)\n",
        ")\n",
        "\n",
        "# Add callback for displaying emissions on click (if needed)\n",
        "#fig.show()"
      ]
    }
  ],
  "metadata": {
    "language_info": {
      "name": "python"
    }
  },
  "nbformat": 4,
  "nbformat_minor": 2
}
