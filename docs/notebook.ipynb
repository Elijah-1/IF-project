{
  "cells": [
    {
      "cell_type": "markdown",
      "metadata": {},
      "source": [
        "# Milieugevolgen van de Uitstoot van Broeikasgassen\n",
        "![image](images/home8.png)"
      ]
    },
    {
      "cell_type": "code",
      "execution_count": null,
      "metadata": {
        "tags": [
          "remove-input"
        ],
        "vscode": {
          "languageId": "plaintext"
        }
      },
      "outputs": [],
      "source": [
        "import plotly.graph_objs as go\n",
        "import plotly.express as px\n",
        "import pandas as pd\n",
        "import numpy as np\n",
        "from scipy.stats import pearsonr\n",
        "\n",
        "nd_df = pd.read_csv('https://raw.githubusercontent.com/Elijah-1/IF-project/main/datasets/disaster-events%20new.csv')\n",
        "ghg_df = pd.read_csv('https://raw.githubusercontent.com/Elijah-1/IF-project/main/datasets/transformed_data_separate_columns.csv')\n",
        "oe_df = pd.read_csv('https://raw.githubusercontent.com/Elijah-1/IF-project/main/datasets/Oil_and_Earthquake.csv')\n",
        "\n",
        "nd_df = nd_df[nd_df['Year'] >= 1970]\n",
        "nd_df = nd_df[nd_df['Year'] != 2023]\n",
        "nd_df = nd_df[nd_df['Year'] != 2024]\n",
        "\n",
        "# emissions only all per year\n",
        "ghg_all_df = ghg_df[ghg_df['Sector'] == 'GLOBAL TOTAL'][['Year', 'Emissions']]\n",
        "\n",
        "# emissions excluding all per year\n",
        "ghg_ex_df = ghg_df[ghg_df['Sector'] != 'GLOBAL TOTAL']\n",
        "\n",
        "# natural disasters only all disasters per year\n",
        "nd_all_df = nd_df[nd_df['Entity'] == 'All disasters'][['Year', 'Disasters']]\n",
        "\n",
        "# natural disasters excluding all disasters {wildcard} per year\n",
        "nd_ex_df = nd_df[~nd_df['Entity'].str.startswith('All disasters')]\n",
        "\n",
        "nd_all_disasters_df = nd_df[nd_df['Entity'] == 'All disasters']\n",
        "\n",
        "# merged\n",
        "merged_all_df = pd.merge(ghg_all_df, nd_all_df, on='Year', how='inner')\n",
        "\n",
        "disaster_counts = nd_ex_df.groupby('Entity')['Disasters'].sum().reset_index()"
      ]
    },
    {
      "cell_type": "markdown",
      "metadata": {},
      "source": [
        "De wereld wordt steeds meer bedreigd door natuurrampen, een probleem dat verergerd wordt door de groeiende uitstoot van broeikasgassen. Mensen die in kwetsbare gebieden wonen, zijn ervan overtuigd dat de toename in frequentie en hevigheid van deze rampen direct verband houdt met de stijgende emissies. Dit heeft verwoestende effecten op hun levens, eigendommen en lokale economieën. Studies tonen aan dat broeikasgassen, veroorzaakt door menselijke activiteiten, de klimaatverandering versnellen. Dit leidt tot extremere weersomstandigheden zoals overstromingen en hittegolven. Anderen beweren echter dat veel van deze veranderingen te wijten zijn aan natuurlijke variaties in het klimaat en dat de impact van broeikasgassen wordt overdreven en dat adaptieve strategieën en technologieën voldoende zijn om eventuele negatieve effecten te mitigeren. Deze uiteenlopende perspectieven suggereren dat er verschillen in interpretatie en prioriteit zijn bij het aanpakken van de gevolgen van klimaatverandering.\n",
        "\n",
        "Als belangrijkste databronnen gebruiken we de EDGAR-dataset, die ons gedetailleerde informatie verstrekt over de uitstoot van broeikasgassen van 1970-2022. Daarnaast maken we gebruik van een dataset die gegevens bevat over het aantal en de soorten natuurrampen die hebben plaatsgevonden van 1900-2024. Om de correlatie tussen natuurrampen en de uitstoot van broeikasgassen te begrijpen en te onderzoeken, zullen we factoren zoals emissies, natuurrampen en de Pearson-correlatiecoëfficiënt tussen de twee analyseren. Verder zullen we relevante literatuur raadplegen om de verschillende argumenten te onderbouwen.\n"
      ]
    },
    {
      "cell_type": "markdown",
      "metadata": {},
      "source": [
        "### Trends in natuurrampen\n",
        "\n",
        "Uit de stacked bar plot blijkt duidelijk dat de frequentie van natuurrampen de afgelopen jaren aanzienlijk is toegenomen (zie Figuur 1). Bij analyse van de grafiek valt op dat er tussen 1970 en 2000 een aanzienlijke stijging was in het aantal rampen per jaar, met opvallende pieken rond 2000 en 2010. Na 2000 stabiliseert het aantal rampen echter, zonder de sterke stijging die in de voorgaande jaren te zien was. Overstromingen en extreem weer vertoonden de grootste stijgingen, wat een aanzienlijk deel van de totale toename van rampen verklaart. Andere rampen, zoals aardbevingen en vulkanische activiteit, lieten een kleinere toename zien."
      ]
    },
    {
      "cell_type": "code",
      "execution_count": null,
      "metadata": {
        "tags": [
          "remove-input"
        ],
        "vscode": {
          "languageId": "plaintext"
        }
      },
      "outputs": [],
      "source": [
        "disaster_types = nd_ex_df['Entity'].unique()\n",
        "colors = px.colors.qualitative.T10[:len(disaster_types)]\n",
        "color_map = {disaster: colors[i % len(colors)] for i, disaster in enumerate(disaster_types)}\n",
        "\n",
        "fig_bar = go.Figure()\n",
        "\n",
        "for disaster in disaster_types:\n",
        "    disaster_data = nd_ex_df[nd_ex_df['Entity'] == disaster]\n",
        "    fig_bar.add_trace(go.Bar(\n",
        "        x=disaster_data['Year'],\n",
        "        y=disaster_data['Disasters'],\n",
        "        name=disaster,\n",
        "        marker=dict(color=color_map[disaster])\n",
        "    ))\n",
        "\n",
        "fig_bar.update_layout(\n",
        "    barmode='stack',\n",
        "    title='Jaarlijkse natuurramp frequentie per type',\n",
        "    xaxis=dict(title='Jaar', titlefont=dict(size=14), tickfont=dict(size=12)),\n",
        "    yaxis=dict(title='Aantal rampen', titlefont=dict(size=14), tickfont=dict(size=12)),\n",
        "    legend=dict(\n",
        "        title='Ramptype',\n",
        "        font=dict(size=12),\n",
        "        orientation='h',\n",
        "        yanchor='top',\n",
        "        y=-0.15,  # Adjust this value to move the legend further below the graph\n",
        "        xanchor='center',\n",
        "        x=0.5\n",
        "    ),\n",
        "    height=600  # Increase height for better visibility\n",
        ")\n",
        "\n",
        "fig_bar.show()"
      ]
    },
    {
      "cell_type": "markdown",
      "metadata": {},
      "source": [
        "> Figuur 1: Deze grafiek toont het aantal natuurrampen van het jaar 1970-2022, onderverdeeld naar type ramp met behulp van kleuren. Beweeg de muis erover om het precieze aantal rampen te zien. \n",
        "\n",
        "Wanneer we het aantal rampen per type weergeven in een donut chart (zie Figuur 2), blijkt dat extreem weer en overstromingen elk jaar een aanzienlijk deel van de natuurrampen vormen in vergelijking met andere typen rampen. Dit verschil wordt steeds groter door de jaren heen. Vooral overstromingen zijn sinds 2006 aanzienlijk toegenomen ten opzichte van de andere natuurrampen."
      ]
    },
    {
      "cell_type": "code",
      "execution_count": null,
      "metadata": {
        "tags": [
          "remove-input"
        ],
        "vscode": {
          "languageId": "plaintext"
        }
      },
      "outputs": [],
      "source": [
        "years = nd_ex_df['Year'].unique()\n",
        "years.sort()\n",
        "\n",
        "disaster_counts_all_years = nd_ex_df.groupby('Entity')['Disasters'].sum().reset_index()\n",
        "\n",
        "def get_disaster_counts(year):\n",
        "    return nd_ex_df[nd_ex_df['Year'] == year].groupby('Entity')['Disasters'].sum().reset_index()\n",
        "\n",
        "fig_pie = go.Figure()\n",
        "\n",
        "fig_pie.add_trace(go.Pie(\n",
        "    labels=disaster_counts_all_years['Entity'],\n",
        "    values=disaster_counts_all_years['Disasters'],\n",
        "    hole=0.8,\n",
        "    marker=dict(colors=[color_map[disaster] for disaster in disaster_counts_all_years['Entity']]),\n",
        "    textposition='outside',\n",
        "    textinfo='percent'\n",
        "))\n",
        "\n",
        "frames = []\n",
        "for year in years:\n",
        "    counts = get_disaster_counts(year)\n",
        "    frames.append(go.Frame(\n",
        "        data=[go.Pie(\n",
        "            labels=counts['Entity'],\n",
        "            values=counts['Disasters'],\n",
        "            hole=0.8,\n",
        "            marker=dict(colors=[color_map[disaster] for disaster in counts['Entity']]),\n",
        "            textposition='outside',\n",
        "            textinfo='percent'\n",
        "        )],\n",
        "        name=str(year)\n",
        "    ))\n",
        "\n",
        "frames.append(go.Frame(\n",
        "    data=[go.Pie(\n",
        "        labels=disaster_counts_all_years['Entity'],\n",
        "        values=disaster_counts_all_years['Disasters'],\n",
        "        hole=0.8,\n",
        "        marker=dict(colors=[color_map[disaster] for disaster in disaster_counts_all_years['Entity']]),\n",
        "        textposition='outside',\n",
        "        textinfo='percent'\n",
        "    )],\n",
        "    name='All years'\n",
        "))\n",
        "\n",
        "fig_pie.update_layout(\n",
        "    title_text='Frequency of Different Disasters',\n",
        "    updatemenus=[{\n",
        "        'buttons': [{\n",
        "            'args': [None, {'frame': {'duration': 500, 'redraw': True}, 'fromcurrent': True}],\n",
        "            'label': 'Play',\n",
        "            'method': 'animate'\n",
        "        }, {\n",
        "            'args': [[None], {'frame': {'duration': 0, 'redraw': True}, 'mode': 'immediate', 'transition': {'duration': 0}}],\n",
        "            'label': 'Pause',\n",
        "            'method': 'animate'\n",
        "        }],\n",
        "        'direction': 'left',\n",
        "        'pad': {'r': 10, 't': 87},\n",
        "        'showactive': False,\n",
        "        'type': 'buttons',\n",
        "        'x': 0.1,\n",
        "        'xanchor': 'right',\n",
        "        'y': 0,\n",
        "        'yanchor': 'top'\n",
        "    }],\n",
        "    sliders=[{\n",
        "        'active': len(years),\n",
        "        'yanchor': 'top',\n",
        "        'xanchor': 'left',\n",
        "        'currentvalue': {\n",
        "            'font': {'size': 20},\n",
        "            'prefix': 'Year: ',\n",
        "            'visible': True,\n",
        "            'xanchor': 'right'\n",
        "        },\n",
        "        'transition': {'duration': 300, 'easing': 'cubic-in-out'},\n",
        "        'pad': {'b': 10, 't': 50},\n",
        "        'len': 0.9,\n",
        "        'x': 0.1,\n",
        "        'y': 0,\n",
        "        'steps': [{\n",
        "            'args': [[str(year)], {'frame': {'duration': 300, 'redraw': True}, 'mode': 'immediate', 'transition': {'duration': 300}}],\n",
        "            'label': str(year),\n",
        "            'method': 'animate'\n",
        "        } for year in years] + [{\n",
        "            'args': [['All years'], {'frame': {'duration': 300, 'redraw': True}, 'mode': 'immediate', 'transition': {'duration': 300}}],\n",
        "            'label': 'All years',\n",
        "            'method': 'animate'\n",
        "        }]\n",
        "    }],\n",
        "    height=600\n",
        ")\n",
        "\n",
        "fig_pie.frames = frames\n",
        "\n",
        "fig_pie.show()"
      ]
    },
    {
      "cell_type": "markdown",
      "metadata": {},
      "source": [
        "> Figuur 2: De grafiek toont de verdeling van natuurrampen in een donut chart met percentages per ramp. Bij hover zie je de precieze aantallen. Met de slider bekijk je de jaarlijkse verdeling. Aan het einde van de slider zie je de cumulatieve verdeling van 1970 tot 2022.\n",
        "\n",
        "Deze figuren laten zien dat weergerelateerde rampen, zoals overstromingen en extreem weer, de afgelopen decennia het sterkst zijn toegenomen. Dit sluit aan bij het algemene wetenschappelijke standpunt dat klimaatverandering, veroorzaakt door verhoogde broeikasgasemissies, de frequentie en ernst van weergerelateerde gebeurtenissen verergert (Ramón et al., 2015). Andere rampen, zoals aardbevingen en vulkanische activiteit, die minder vaak voorkomen (zie Figuur 2), vertoonden een kleinere toename. Rampen die direct gekoppeld zijn aan klimaatverandering, zoals overstromingen en extreem weer, zijn daarentegen aanzienlijk sterker gestegen.\n",
        "\n",
        "Figuur 2 laat ook zien dat het aantal overstromingen tussen 2006 en 2022 een aanzienlijk groter percentage van het totale aantal rampen uitmaakt in vergelijking met de periode van 1970 tot 2000. Dit ondersteunt de theorie dat verhoogde broeikasgasemissies, die bijdragen aan klimaatverandering, verantwoordelijk zijn voor de toename van weergerelateerde rampen, met name overstromingen.\n",
        "\n",
        "De gegevens uit figuur 1 laten ook zien dat het aantal natuurrampen tussen 2000 en 2022 niet verder is gestegen, ondanks de voortdurende toename van broeikasgasemissies (zie Figuur 3). Deze stabilisatie kan de indruk wekken dat er geen directe correlatie is tussen de stijgende emissies en het aantal rampen. Dit kan verschillende verklaringen hebben, zoals verbeterde aanpassings- en preventiemaatregelen, verbeterde infrastructuur en technologische vooruitgang die de impact van dergelijke rampen kunnen beperken of voorkomen. Een goed voorbeeld hiervan is Nederland, waar uitgebreide dijken en waterbeheersystemen effectief zijn gebleken in het voorkomen van overstromingen, ondanks de stijgende zeespiegel en hevige regenval als gevolg van klimaatverandering.\n",
        "\n",
        "\n",
        "### Groei van emissies\n",
        "\n",
        "Een belangrijke factor om te overwegen is de groei van de broeikasgasuitstoot. In 1970 bedroeg de totale broeikasgasuitstoot ongeveer 27 gigaton. Hoewel er af en toe dalingen waren, is de uitstoot over het algemeen aanzienlijk gestegen van 1970 tot 2022. In 2022 bedroeg de totale broeikasgasuitstoot ongeveer 53 gigaton, wat meer dan een verdubbeling is ten opzichte van 1970."
      ]
    },
    {
      "cell_type": "code",
      "execution_count": null,
      "metadata": {
        "tags": [
          "remove-input"
        ],
        "vscode": {
          "languageId": "plaintext"
        }
      },
      "outputs": [],
      "source": [
        "fig = go.Figure()\n",
        "fig.add_trace(go.Scatter(x=ghg_all_df['Year'], y=ghg_all_df['Emissions'], mode='lines+markers', name='Emissions'))\n",
        "fig.update_layout(\n",
        "    title='Mondiale uitstoot van broeikasgassen door de jaren heen',\n",
        "    xaxis_title='Jaar',\n",
        "    yaxis_title='Emissies (Mton)',\n",
        "    template='plotly_white',\n",
        ")\n",
        "\n",
        "fig.show()"
      ]
    },
    {
      "cell_type": "markdown",
      "metadata": {},
      "source": [
        "> Figuur 3: Deze grafiek laat de trends zien in broeikasgasemissies van 1970 tot 2022. Over het algemeen vertoont de grafiek een toename van de broeikasgasuitstoot. Met name valt op dat de stijging tussen 2000 en 2022 aanzienlijk sterker is dan tussen 1970 en 2000.\n",
        "\n",
        "Ondanks de enorme stijging in broeikasgasuitstoot, toont figuur 1 aan dat de groei van het aantal natuurrampen beperkt is gebleven. De grafiek laat zien dat er na 2000 weliswaar een minimale stijging is in het aantal natuurrampen, maar deze stijging is niet in verhouding met de toename van de broeikasgasuitstoot. Dit suggereert dat het aantal natuurrampen niet sterk is beïnvloed door de groei van de broeikasgasuitstoot.\n",
        "\n",
        "### De mogelijke gevolgen van emissieproductie door de sectoren\n",
        "\n",
        "In een tijdperk waarin klimaatverandering een van de grootste uitdagingen vormt, is het essentieel om te begrijpen hoe verschillende sectoren bijdragen aan de uitstoot van broeikasgassen en de daaruit voortvloeiende natuurrampen. De energietransitie, de afvalverwerking, en het transport zijn enkele van de sleutelsectoren die verantwoordelijk zijn voor significante emissieproductie."
      ]
    },
    {
      "cell_type": "code",
      "execution_count": null,
      "metadata": {
        "tags": [
          "remove-input"
        ],
        "vscode": {
          "languageId": "plaintext"
        }
      },
      "outputs": [],
      "source": [
        "aggregated_df = ghg_ex_df.groupby(['Year', 'Sector'], as_index=False)['Emissions'].sum()\n",
        "\n",
        "pivot_df = aggregated_df.pivot(index='Year', columns='Sector', values='Emissions')\n",
        "\n",
        "fig = go.Figure()\n",
        "\n",
        "for sector in pivot_df.columns:\n",
        "    fig.add_trace(go.Scatter(\n",
        "        x=pivot_df.index,\n",
        "        y=pivot_df[sector],\n",
        "        mode='lines+markers',\n",
        "        name=sector,\n",
        "    ))\n",
        "\n",
        "fig.update_layout(\n",
        "    title=\"Broeikasgasemissies per sector\",\n",
        "    xaxis_title=\"Jaar\",\n",
        "    yaxis_title=\"Emissies (Mton)\",\n",
        "    legend_title=\"Sector\",\n",
        "    hovermode=\"x\",\n",
        "    template=\"plotly_white\",\n",
        "    legend=dict(\n",
        "        orientation=\"h\",\n",
        "        yanchor=\"top\",\n",
        "        y=-0.2,  # Adjust this value to move the legend further down\n",
        "        xanchor=\"center\",\n",
        "        x=0.5\n",
        "    )\n",
        ")\n",
        "\n",
        "fig.show()"
      ]
    },
    {
      "cell_type": "markdown",
      "metadata": {},
      "source": [
        "> Figuur 4: De grafiek toont de uitstoot van broeikasgassen per sector van 1970 tot 2022, met sectoren zoals landbouw, gebouwen, brandstofwinning, industriële verbranding, de energiesector, processen, transport en afval.\n",
        "\n",
        "Duidelijke trends zijn zichtbaar: de energiesector vertoont een significante toename in uitstoot, terwijl sectoren als afval en bouw relatief stabiel zijn gebleven.\n",
        "\n",
        "Natuurrampen hebben diverse oorzaken. Zo kunnen bijvoorbeeld olieboringen aardbevingen veroorzaken. Om te begrijpen hoe emissies uit verschillende sectoren samenhangen met diverse typen rampen, onderzoeken we de Pearson-correlatie tussen emissies per sector en het voorkomen van deze rampen.\n",
        "\n",
        "De Pearson-correlatie meet de sterkte en richting van de lineaire relatie tussen twee variabelen. Een waarde van 1 betekent een perfecte positieve correlatie, -1 een perfecte negatieve correlatie, en 0 betekent geen lineaire correlatie. Deze methode helpt ons te begrijpen of en hoe sterk emissies uit verschillende sectoren gerelateerd zijn aan het optreden van natuurrampen.\n"
      ]
    },
    {
      "cell_type": "code",
      "execution_count": null,
      "metadata": {
        "tags": [
          "remove-input"
        ],
        "vscode": {
          "languageId": "plaintext"
        }
      },
      "outputs": [],
      "source": [
        "sectors = ghg_ex_df['Sector'].unique()\n",
        "disaster_types = nd_ex_df['Entity'].unique()\n",
        "\n",
        "def calculate_pearson(df1, df2, sector):\n",
        "    correlations = []\n",
        "    for disaster in disaster_types:\n",
        "        merged_df = pd.merge(\n",
        "            df1[(df1['Sector'] == sector)][['Year', 'Emissions']],\n",
        "            df2[(df2['Entity'] == disaster)][['Year', 'Disasters']],\n",
        "            on='Year'\n",
        "        )\n",
        "        if not merged_df.empty:\n",
        "            corr, _ = pearsonr(merged_df['Emissions'], merged_df['Disasters'])\n",
        "            correlations.append(corr)\n",
        "        else:\n",
        "            correlations.append(None)\n",
        "    return correlations\n",
        "\n",
        "def calculate_all_disasters_pearson(df1, df2, sector):\n",
        "    merged_df = pd.merge(\n",
        "        df1[(df1['Sector'] == sector)][['Year', 'Emissions']],\n",
        "        df2[['Year', 'Disasters']],\n",
        "        on='Year'\n",
        "    )\n",
        "    if not merged_df.empty:\n",
        "        corr, _ = pearsonr(merged_df['Emissions'], merged_df['Disasters'])\n",
        "        return corr\n",
        "    else:\n",
        "        return None\n",
        "\n",
        "initial_sector = sectors[0]\n",
        "correlations = calculate_pearson(ghg_ex_df, nd_ex_df, initial_sector)\n",
        "all_disasters_correlation = calculate_all_disasters_pearson(ghg_ex_df, nd_all_disasters_df, initial_sector)\n",
        "\n",
        "colors = px.colors.qualitative.T10\n",
        "\n",
        "fig = go.Figure(data=[\n",
        "    go.Bar(name='Individual Disasters', x=disaster_types, y=correlations, marker_color=colors),\n",
        "    go.Bar(name='All Disasters', x=['All Disasters'], y=[all_disasters_correlation], marker_color=colors[1])\n",
        "])\n",
        "\n",
        "fig.update_layout(\n",
        "    title=f'Pearson correlatie over diverse sectoren',\n",
        "    xaxis_title='Ramptype',\n",
        "    yaxis_title='Pearson correlatiecoëfficiënt',\n",
        "    barmode='group',\n",
        "    showlegend=False  # Remove the legend\n",
        ")\n",
        "\n",
        "dropdown_buttons = [\n",
        "    dict(label=sector,\n",
        "         method='update',\n",
        "         args=[{\n",
        "             'y': [calculate_pearson(ghg_ex_df, nd_ex_df, sector),\n",
        "                   [calculate_all_disasters_pearson(ghg_ex_df, nd_all_disasters_df, sector)]],\n",
        "             'marker': [\n",
        "                 {'color': colors[:len(disaster_types)]},  # Colors for individual disasters\n",
        "                 {'color': [colors[1]]}  # Color for all disasters\n",
        "             ],\n",
        "             'title': f'Pearson Correlation for {sector} Sector'\n",
        "         }])\n",
        "    for sector in sectors\n",
        "]\n",
        "\n",
        "fig.update_layout(\n",
        "    updatemenus=[\n",
        "        dict(\n",
        "            buttons=dropdown_buttons,\n",
        "            direction='down',\n",
        "            pad={'r': 10, 't': 10},\n",
        "            showactive=True,\n",
        "            x=0.1,\n",
        "            xanchor='left',\n",
        "            y=1.1,\n",
        "            yanchor='top'\n",
        "        )\n",
        "    ]\n",
        ")\n",
        "\n",
        "fig.show()"
      ]
    },
    {
      "cell_type": "markdown",
      "metadata": {},
      "source": [
        "> Figuur 5: De grafiek toont de Pearson-correlatiecoëfficiënten tussen verschillende typen natuurrampen en de emissies per sector. De correlaties geven aan hoe sterk de relatie is tussen de uitstoot in een specifieke sector en het optreden van een bepaald type ramp.  Met de knop kun je selecteren welke sector je wilt bekijken. Hogere waarden duiden op een sterkere positieve correlatie.\n",
        "\n",
        "Extreem weer en overstromingen hebben consequent de hoogste positieve correlaties in meerdere sectoren, waaronder landbouw, brandstofwinning, industriële verbranding, de energiesector, processen, transport en afval. Dit wijst erop dat deze sectoren de grootste invloed hebben op deze rampen. In de landbouwsector vertonen extreem weer en overstromingen de grootste correlatie, terwijl droogte een gematigde positieve correlatie heeft. Over het geheel genomen benadrukken de grafieken dat extreem weer en overstromingen de grootste correlatie vormen.\n",
        "\n",
        "Hoewel de Pearson correlatiecoëfficiënten een positief verband laten zien, kunnen we echter niet concluderen dat natuurrampen worden veroorzaakt door broeikasgassen, aangezien de correlatiecoëfficiënten vaak een erg lage waarde hebben. \n",
        "\n",
        "### Andere mogelijke oorzaken \n",
        "\n",
        "De oorzaken van natuurrampen zijn complex en kunnen niet eenvoudig worden vastgesteld. Naast de uitstoot van broeikasgassen per sector zijn er andere mogelijke factoren die natuurrampen kunnen veroorzaken, zoals aardbevingen door olieboringen en droogte door ontbossing. Door de onderstaande grafiek te bekijken, krijgen we een duidelijk overzicht van de veranderingen in het aantal aardbevingen en de olieproductie in de periode 1970-2014. "
      ]
    },
    {
      "cell_type": "code",
      "execution_count": null,
      "metadata": {
        "tags": [
          "remove-input"
        ],
        "vscode": {
          "languageId": "plaintext"
        }
      },
      "outputs": [],
      "source": [
        "years = oe_df['year']\n",
        "oil_production = oe_df['oil_prod']\n",
        "number_of_disasters = oe_df['earthquake']\n",
        "\n",
        "# Create the figure\n",
        "fig = go.Figure()\n",
        "\n",
        "# Add oil production line\n",
        "fig.add_trace(go.Scatter(\n",
        "    x=years,\n",
        "    y=oil_production,\n",
        "    mode='lines+markers',\n",
        "    name='Olieproductie',\n",
        "    yaxis='y1',\n",
        "    line=dict(color='black'),\n",
        "    marker=dict(color='black'),\n",
        "    hovertemplate='Jaar: %{x}<br>Olieproductie: %{y}'\n",
        "))\n",
        "\n",
        "# Add number of disasters line\n",
        "fig.add_trace(go.Scatter(\n",
        "    x=years,\n",
        "    y=number_of_disasters,\n",
        "    mode='lines+markers',\n",
        "    name='Aantal aardbevingen',\n",
        "    yaxis='y2',\n",
        "    line=dict(color='#008000'),  # Using hex code for green\n",
        "    marker=dict(color='#008000'),  # Using hex code for green\n",
        "    hovertemplate='Jaar: %{x}<br>Aantal aardbevingen: %{y}'\n",
        "))\n",
        "\n",
        "# Update layout for dual y-axis and legend at the bottom\n",
        "fig.update_layout(\n",
        "    title='Olieproductie en aantal aardbevingen door de jaren heen',\n",
        "    xaxis=dict(title='Jaar'),\n",
        "    yaxis=dict(\n",
        "        title='Olieproductie (ton)',\n",
        "        titlefont=dict(color='black'),\n",
        "        tickfont=dict(color='black')\n",
        "    ),\n",
        "    yaxis2=dict(\n",
        "        title='Aardbevingen',\n",
        "        titlefont=dict(color='#008000'),  # Using hex code for green\n",
        "        tickfont=dict(color='#008000'),  # Using hex code for green\n",
        "        overlaying='y',\n",
        "        side='right'\n",
        "    ),\n",
        "    legend=dict(\n",
        "        x=0.5,\n",
        "        y=-0.2,\n",
        "        orientation='h',\n",
        "        xanchor='center',\n",
        "        yanchor='top'\n",
        "    )\n",
        ")\n",
        "\n",
        "# Show the figure\n",
        "fig.show()"
      ]
    },
    {
      "cell_type": "markdown",
      "metadata": {},
      "source": [
        "> Figuur 6: De grafiek toont de olieproductie (zwarte lijn) en het aantal aardbevingen (groene lijn) van 1970 tot 2015, waarbij de linker y-as de olieproductie en de rechter y-as het aantal aardbevingen weergeeft. De lijnen en punten geven de jaarlijkse trends en waarden weer, met kleurcodering voor onderscheid. B staat voor miljard.\n",
        "\n",
        "De grafiek laat zien dat zowel het aantal aardbevingen als de olieproductie op vergelijkbare manier schommelen. Een toename in olieproductie resulteert in een stijging van het aantal aardbevingen in de daaropvolgende jaren. Bovendien is aangetoond dat mijnbouwactiviteiten, waaronder olieboring en steenkoolproductie, op lange termijn invloed hebben op aardbevingen (Witkowski et al., 2024). Om verdere correlaties te onderzoeken en een betere vergelijking te maken met de invloed van broeikasgassen per sector op het aantal natuurrampen, berekenen we in dit geval ook de bijbehorende Pearson-correlatiecoëfficiënt. In dit geval is de coëfficiënt 0.400, wat een positief verband aangeeft en tevens hoger is dan de coëfficiënten van alle eerder besproken sectoren.\n",
        "\n",
        "### Is er een relatie?\n",
        "\n",
        "Vanaf het jaar 1970-2000 is het aantal natuurrampen extreem hard gestegen. Na het jaar 2000 is het aantal natuurrampen ongeveer gelijk gebleven, terwijl de broeikasgasuitstoot bleef toenemen. Deze grafiek laat het verband zien tussen natuurrampen en de broeikasgasuitstoot door de jaren heen."
      ]
    },
    {
      "cell_type": "code",
      "execution_count": null,
      "metadata": {
        "tags": [
          "remove-input"
        ],
        "vscode": {
          "languageId": "plaintext"
        }
      },
      "outputs": [],
      "source": [
        "fig = go.Figure()\n",
        "fig.add_trace(go.Scatter(\n",
        "    x=merged_all_df['Emissions'], \n",
        "    y=merged_all_df['Disasters'],\n",
        "    mode='markers', \n",
        "    name='Verband tussen broeikasgasemissies en aantal natuurrampen',\n",
        "    marker=dict(\n",
        "        color=merged_all_df['Year'], \n",
        "        size=10, \n",
        "        colorscale='Viridis', \n",
        "        showscale=True\n",
        "    )\n",
        "))\n",
        "\n",
        "fig.update_layout(\n",
        "    title='Verband tussen broeikasgasemissies en aantal natuurrampen',\n",
        "    xaxis_title='Emissies',\n",
        "    yaxis_title='Rampen',\n",
        "    template='plotly_white'\n",
        ")\n",
        "\n",
        "fig.show()"
      ]
    },
    {
      "cell_type": "markdown",
      "metadata": {},
      "source": [
        "> Figuur 7: Deze grafiek toont de relatie tussen jaarlijkse broeikasgasemissies en het aantal natuurrampen van 1970 tot 2022.<br> Elk punt vertegenwoordigt een jaar, waarbij de kleurgradaties de tijdsprogressie aangeven.\n",
        "\n",
        "Uit de grafiek blijkt dat zowel de broeikasgasuitstoot als het aantal natuurrampen toenam in de eerste paar jaren (1970-2000). Dit is te zien aan de kleurgradaties: de donkere kleuren (vroegere jaren) bevinden zich links met lagere waarden, terwijl de lichtere kleuren (latere jaren) rechts en hoger zijn, wat hogere waarden aangeeft. In de daaropvolgende jaren neemt de broeikasgasuitstoot nog steeds sterk toe, maar het aantal natuurrampen niet. Zoals te zien is in de grafiek blijven de punten ongeveer gelijk op de y-as, terwijl de kleur verandert van groen naar geel.\n",
        "\n",
        "Vanuit de analyse van de gegevens over natuurrampen en broeikasgasemissies kunnen twee uiteenlopende conclusies worden getrokken. Ten eerste, wanneer we de periode van 1970 tot 2000 onder de loep nemen, blijkt dat de uitstoot van broeikasgassen een significante invloed heeft op de frequentie en intensiteit van natuurrampen. Gedurende deze dertig jaar is er een duidelijke correlatie waarneembaar tussen de stijging van broeikasgasemissies en de toename van natuurrampen zoals overstromingen en extreme temperaturen. De data suggereren dat de opwarming van de aarde, als gevolg van verhoogde broeikasgas concentraties, een directe rol speelt in het verergeren van deze natuurrampen.\n",
        "\n",
        "In contrast hiermee, de periode van 2000 tot 2022 laat een ander beeld zien. In deze recente periode lijkt de uitstoot van broeikasgassen een minimale invloed te hebben op de frequentie en intensiteit van natuurrampen. Ondanks een voortdurende stijging van de broeikasgasemissies, is er geen duidelijke toename in het aantal natuurrampen.\n",
        "\n",
        "### Samenvatting\n",
        "\n",
        "De analyse toont aan dat natuurrampen, met name overstromingen en extreem weer, aanzienlijk zijn toegenomen van 1970 tot 2000, maar na 2000 gestabiliseerd zijn ondanks de stijgende uitstoot van broeikasgassen. Dit suggereert dat hoewel emissies bijdragen aan klimaatgerelateerde rampen, andere factoren zoals verbeterde aanpassingsmaatregelen hun impact kunnen verminderen. Emissies per sector correleren ook met verschillende soorten rampen, waarbij de energie- en landbouwsectoren de hoogste positieve correlaties vertonen. Over het algemeen waarnemen we echter lage positieve Pearson-correlaties, waardoor we geen definitieve conclusies kunnen trekken. Hoewel er na 2000 veel meer natuurrampen waren dan in de jaren ervoor, bleven de emissies redelijk geleidelijk stijgen. De complexe aard van rampen en andere invloedsfactoren, zoals olieproductie die tot aardbevingen leidt, geven aan dat emissies alleen de frequentie en intensiteit van natuurrampen niet volledig verklaren.\n",
        "\n",
        "### Referenties\n",
        "\n",
        "1. Ramón, L. V., Thomas, V., & Pablo, T. A. (2015, 1 december). Climate change and natural disasters. \n",
        "https://repositorio.uchile.cl/handle/2250/138715\n",
        "2. Witkowski, W. T., Łucka, M., Guzy, A., Sudhaus, H., Barańska, A., & Hejmanowski, R. (2024). Impact of mining-induced seismicity on land subsidence occurrence. Remote Sensing Of Environment, 301, 113934. https://doi.org/10.1016/j.rse.2023.113934\n",
        "\n",
        "### GitHub Repository\n",
        "\n",
        "https://github.com/Elijah-1/IF-project"
      ]
    }
  ],
  "metadata": {
    "language_info": {
      "name": "python"
    }
  },
  "nbformat": 4,
  "nbformat_minor": 2
}
