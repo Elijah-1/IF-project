{
  "cells": [
    {
      "cell_type": "markdown",
      "metadata": {},
      "source": [
        "# Milieugevolgen van de Uitstoot van Broeikasgassen\n",
        "![image](images/home8.png)"
      ]
    },
    {
      "cell_type": "code",
      "execution_count": null,
      "metadata": {
        "tags": [
          "remove-input"
        ],
        "vscode": {
          "languageId": "plaintext"
        }
      },
      "outputs": [],
      "source": [
        "import plotly.graph_objs as go\n",
        "import plotly.express as px\n",
        "import pandas as pd\n",
        "import numpy as np\n",
        "from scipy.stats import pearsonr\n",
        "\n",
        "nd_df = pd.read_csv('https://raw.githubusercontent.com/Elijah-1/IV-dataset-emissions/main/disaster-events%20new.csv')\n",
        "ghg_df = pd.read_csv('https://raw.githubusercontent.com/Elijah-1/IV-dataset-emissions/main/transformed_data_separate_columns.csv')\n",
        "\n",
        "# Load the emissions data\n",
        "#emissions_data_country = pd.read_csv('https://raw.githubusercontent.com/Elijah-1/IV-dataset-emissions/main/global-co2-fossil-plus-land-use.csv')\n",
        "\n",
        "# remove last year and 1970- years from natural disaster dataset\n",
        "nd_df = nd_df[nd_df['Year'] >= 1970]\n",
        "nd_df = nd_df[nd_df['Year'] != 2023]\n",
        "nd_df = nd_df[nd_df['Year'] != 2024]\n",
        "\n",
        "# emissions only all per year\n",
        "ghg_all_df = ghg_df[ghg_df['Substance'] == 'ALL'][['Year', 'Emissions']]\n",
        "\n",
        "# emissions excluding all per year\n",
        "ghg_ex_df = ghg_df[ghg_df['Substance'] != 'ALL']\n",
        "\n",
        "# natural disasters only all disasters per year\n",
        "nd_all_df = nd_df[nd_df['Entity'] == 'All disasters'][['Year', 'Disasters']]\n",
        "\n",
        "# natural disasters excluding all disasters {wildcard} per year\n",
        "nd_ex_df = nd_df[~nd_df['Entity'].str.startswith('All disasters')]\n",
        "\n",
        "# Extract disaster data for \"all disasters\"\n",
        "nd_all_disasters_df = nd_df[nd_df['Entity'] == 'All disasters']\n",
        "\n",
        "# merged\n",
        "merged_all_df = pd.merge(ghg_all_df, nd_all_df, on='Year', how='inner')\n",
        "\n",
        "disaster_counts = nd_ex_df.groupby('Entity')['Disasters'].sum().reset_index()"
      ]
    },
    {
      "cell_type": "markdown",
      "metadata": {},
      "source": [
        "De wereld wordt steeds meer bedreigd door natuurrampen, een probleem dat verergerd wordt door de groeiende uitstoot van broeikasgassen. Mensen die in kwetsbare gebieden wonen, zijn ervan overtuigd dat de toename in frequentie en hevigheid van deze rampen direct verband houdt met de stijgende emissies. Dit heeft verwoestende effecten op hun levens, eigendommen en lokale economieën. Studies tonen aan dat broeikasgassen, veroorzaakt door menselijke activiteiten, de klimaatverandering versnellen. Dit leidt tot extremere weersomstandigheden zoals overstromingen en hittegolven. Anderen beweren echter dat veel van deze veranderingen te wijten zijn aan natuurlijke variaties in het klimaat en dat de impact van broeikasgassen wordt overdreven en dat adaptieve strategieën en technologieën voldoende zijn om eventuele negatieve effecten te mitigeren. Deze uiteenlopende perspectieven suggereren dat er verschillen in interpretatie en prioriteit zijn bij het aanpakken van de gevolgen van klimaatverandering.\n",
        "\n",
        "Als belangrijkste databronnen gebruiken we de EDGAR-dataset, die ons gedetailleerde informatie verstrekt over de uitstoot van broeikasgassen van 1970-2022. Daarnaast maken we gebruik van een dataset die gegevens bevat over het aantal en de soorten natuurrampen die hebben plaatsgevonden van 1900-2024. Om de correlatie tussen natuurrampen en de uitstoot van broeikasgassen te begrijpen en te onderzoeken, zullen we factoren zoals emissies, natuurrampen en de Pearson-correlatiecoëfficiënt tussen de twee analyseren. Verder zullen we relevante literatuur raadplegen om de verschillende argumenten te onderbouwen.\n"
      ]
    },
    {
      "cell_type": "markdown",
      "metadata": {},
      "source": [
        "### Natuurlijke rampen"
      ]
    },
    {
      "cell_type": "code",
      "execution_count": null,
      "metadata": {
        "tags": [
          "remove-input"
        ],
        "vscode": {
          "languageId": "plaintext"
        }
      },
      "outputs": [],
      "source": [
        "disaster_types = nd_ex_df['Entity'].unique()\n",
        "colors = px.colors.qualitative.T10[:len(disaster_types)]\n",
        "color_map = {disaster: colors[i % len(colors)] for i, disaster in enumerate(disaster_types)}\n",
        "\n",
        "# Create the stacked bar plot\n",
        "fig_bar = go.Figure()\n",
        "\n",
        "for disaster in disaster_types:\n",
        "    disaster_data = nd_ex_df[nd_ex_df['Entity'] == disaster]\n",
        "    fig_bar.add_trace(go.Bar(\n",
        "        x=disaster_data['Year'],\n",
        "        y=disaster_data['Disasters'],\n",
        "        name=disaster,\n",
        "        marker=dict(color=color_map[disaster])\n",
        "    ))\n",
        "\n",
        "fig_bar.update_layout(\n",
        "    barmode='stack',\n",
        "    title='Jaarlijkse natuurramp frequentie per type',\n",
        "    xaxis=dict(title='Jaar', titlefont=dict(size=14), tickfont=dict(size=12)),\n",
        "    yaxis=dict(title='Aantal rampen', titlefont=dict(size=14), tickfont=dict(size=12)),\n",
        "    legend=dict(\n",
        "        title='Ramptype',\n",
        "        font=dict(size=12),\n",
        "        orientation='h',\n",
        "        yanchor='top',\n",
        "        y=-0.15,  # Adjust this value to move the legend further below the graph\n",
        "        xanchor='center',\n",
        "        x=0.5\n",
        "    ),\n",
        "    height=600  # Increase height for better visibility\n",
        ")\n",
        "\n",
        "fig_bar.show()"
      ]
    },
    {
      "cell_type": "markdown",
      "metadata": {},
      "source": [
        "> Figuur 1: Deze grafiek toont het aantal natuurrampen van het jaar 1970-2022, onderverdeeld naar type ramp met behulp van kleuren. Beweeg de muis erover om het precieze aantal rampen te zien. \n",
        "\n",
        "Deze grafiek laat het aantal natuurrampen zien van 1970 tot 2022, onderverdeeld in verschillende categorieën. Er is een duidelijke toename te zien van het aantal natuurrampen tussen 1970 en 2000. Na 2000 is er echter geen significante stijging of daling meer waarneembaar, wat resulteert in een vergelijkbaar aantal natuurrampen in 2022 ten opzichte van 2000."
      ]
    },
    {
      "cell_type": "code",
      "execution_count": null,
      "metadata": {
        "tags": [
          "remove-input"
        ],
        "vscode": {
          "languageId": "plaintext"
        }
      },
      "outputs": [],
      "source": [
        "fig_pie = go.Figure(go.Pie(\n",
        "    labels=disaster_counts['Entity'],\n",
        "    values=disaster_counts['Disasters'],\n",
        "    hole=0.8,\n",
        "    marker=dict(colors=[color_map[disaster] for disaster in disaster_counts['Entity']]),\n",
        "    textposition='outside',\n",
        "    textinfo='percent'\n",
        "))\n",
        "\n",
        "fig_pie.update_layout(\n",
        "    title_text='Frequentie van verschillende rampen',\n",
        ")\n",
        "\n",
        "fig_pie.show()"
      ]
    },
    {
      "cell_type": "markdown",
      "metadata": {},
      "source": [
        "> Figuur 2: De grafiek laat de distributie zien van alle natuurrampen door hun percentages te geven. Beweeg de muis over <br> de sectie om het precieze aantal te zien. De kleuren van de natuurrampen komen overeen met de vorige grafiek.\n",
        "\n",
        "Grafiek 2 is een cirkeldiagram dat de verdeling van typen natuurrampen laat zien van 1970 tot 2022. Uit de grafiek blijkt dat overstromingen de meest voorkomende natuurramp zijn, gevolgd door extreme weersomstandigheden. Deze twee typen natuurrampen kunnen worden veroorzaakt door de stijgende broeikasgasuitstoot, die leidt tot hogere temperaturen.\n",
        "\n",
        "### Groei van emissies\n",
        "\n",
        "Een belangrijke factor om te overwegen is de groei van de broeikasgasuitstoot. In 1970 bedroeg de totale broeikasgasuitstoot ongeveer 27 gigaton. Hoewel er af en toe dalingen waren, is de uitstoot over het algemeen aanzienlijk gestegen van 1970 tot 2022. In 2022 bedroeg de totale broeikasgasuitstoot ongeveer 53 gigaton, wat meer dan een verdubbeling ten opzichte van 1970."
      ]
    },
    {
      "cell_type": "code",
      "execution_count": null,
      "metadata": {
        "tags": [
          "remove-input"
        ],
        "vscode": {
          "languageId": "plaintext"
        }
      },
      "outputs": [],
      "source": [
        "fig = go.Figure()\n",
        "fig.add_trace(go.Scatter(x=ghg_all_df['Year'], y=ghg_all_df['Emissions'], mode='lines+markers', name='Emissions'))\n",
        "fig.update_layout(\n",
        "    title='Mondiale uitstoot van broeikasgassen door de jaren heen',\n",
        "    xaxis_title='Jaar',\n",
        "    yaxis_title='Emissies',\n",
        "    template='plotly_white',\n",
        "   # paper_bgcolor='#d1e8d2',  # Background color for the whole output\n",
        "   # plot_bgcolor='#d1e8d2'\n",
        ")\n",
        "\n",
        "fig.show()"
      ]
    },
    {
      "cell_type": "markdown",
      "metadata": {},
      "source": [
        "> Figuur 3: Deze grafiek laat de trends zien in broeikasgasemissies van 1970 tot 2022. Over het algemeen vertoont de grafiek een toename van de broeikasgasuitstoot. Met name valt op dat de stijging tussen 2000 en 2022 aanzienlijk sterker is dan tussen 1970 en 2000.\n",
        "\n",
        "Ondanks de enorme stijging in broeikasgasuitstoot, toont grafiek 1 aan dat de groei van het aantal natuurrampen beperkt is gebleven. De grafiek laat zien dat er na 2000 weliswaar een algemene stijging is in het aantal natuurrampen, maar deze stijging is niet in verhouding met de toename van de broeikasgasuitstoot. Dit suggereert dat het aantal natuurrampen niet sterk is beïnvloed door de groei van de broeikasgasuitstoot.\n",
        "\n",
        "### De mogelijke gevolgen van emissieproductie door de sectoren\n"
      ]
    },
    {
      "cell_type": "code",
      "execution_count": null,
      "metadata": {
        "tags": [
          "remove-input"
        ],
        "vscode": {
          "languageId": "plaintext"
        }
      },
      "outputs": [],
      "source": [
        "aggregated_df = ghg_ex_df.groupby(['Year', 'Sector'], as_index=False)['Emissions'].sum()\n",
        "\n",
        "# Pivot the dataframe to have years as rows and sectors as columns\n",
        "pivot_df = aggregated_df.pivot(index='Year', columns='Sector', values='Emissions')\n",
        "\n",
        "# Create the figure\n",
        "fig = go.Figure()\n",
        "\n",
        "# Add traces for each sector\n",
        "for sector in pivot_df.columns:\n",
        "    fig.add_trace(go.Scatter(\n",
        "        x=pivot_df.index,\n",
        "        y=pivot_df[sector],\n",
        "        mode='lines+markers',\n",
        "        name=sector,\n",
        "    ))\n",
        "\n",
        "# Update layout\n",
        "fig.update_layout(\n",
        "    title=\"Broeikasgasemissies per sector\",\n",
        "    xaxis_title=\"Jaar\",\n",
        "    yaxis_title=\"Emissies\",\n",
        "    legend_title=\"Sector\",\n",
        "    hovermode=\"x\",\n",
        "    template=\"plotly_white\",\n",
        "    legend=dict(\n",
        "        orientation=\"h\",\n",
        "        yanchor=\"top\",\n",
        "        y=-0.2,  # Adjust this value to move the legend further down\n",
        "        xanchor=\"center\",\n",
        "        x=0.5\n",
        "    )\n",
        ")\n",
        "\n",
        "# Show the figure\n",
        "fig.show()"
      ]
    },
    {
      "cell_type": "markdown",
      "metadata": {},
      "source": [
        "> Figuur 4: De grafiek toont de uitstoot van broeikasgassen (GHG) per sector van 1970 tot 2022, met sectoren zoals landbouw, gebouwen, brandstofwinning, industriële verbranding, de energiesector, processen, transport en afval.\n",
        "\n",
        "Duidelijke trends zijn zichtbaar: de energiesector vertoont een significante toename in uitstoot, terwijl sectoren als afval en transport relatief stabiel zijn gebleven.\n",
        "De grafiek biedt inzicht in de historische ontwikkelingen van GHG-uitstoot per sector. Deze informatie is cruciaal voor het ontwikkelen van strategieën tegen klimaatverandering en helpt beleidsmakers en onderzoekers om beter geïnformeerde beslissingen te nemen."
      ]
    },
    {
      "cell_type": "code",
      "execution_count": null,
      "metadata": {
        "tags": [
          "remove-input"
        ],
        "vscode": {
          "languageId": "plaintext"
        }
      },
      "outputs": [],
      "source": [
        "sectors = ghg_ex_df['Sector'].unique()\n",
        "disaster_types = nd_ex_df['Entity'].unique()\n",
        "\n",
        "def calculate_pearson(df1, df2, sector):\n",
        "    correlations = []\n",
        "    for disaster in disaster_types:\n",
        "        merged_df = pd.merge(\n",
        "            df1[(df1['Sector'] == sector)][['Year', 'Emissions']],\n",
        "            df2[(df2['Entity'] == disaster)][['Year', 'Disasters']],\n",
        "            on='Year'\n",
        "        )\n",
        "        if not merged_df.empty:\n",
        "            corr, _ = pearsonr(merged_df['Emissions'], merged_df['Disasters'])\n",
        "            correlations.append(corr)\n",
        "        else:\n",
        "            correlations.append(None)\n",
        "    return correlations\n",
        "\n",
        "def calculate_all_disasters_pearson(df1, df2, sector):\n",
        "    merged_df = pd.merge(\n",
        "        df1[(df1['Sector'] == sector)][['Year', 'Emissions']],\n",
        "        df2[['Year', 'Disasters']],\n",
        "        on='Year'\n",
        "    )\n",
        "    if not merged_df.empty:\n",
        "        corr, _ = pearsonr(merged_df['Emissions'], merged_df['Disasters'])\n",
        "        return corr\n",
        "    else:\n",
        "        return None\n",
        "\n",
        "# Initial calculation for the first sector\n",
        "initial_sector = sectors[0]\n",
        "correlations = calculate_pearson(ghg_ex_df, nd_ex_df, initial_sector)\n",
        "all_disasters_correlation = calculate_all_disasters_pearson(ghg_ex_df, nd_all_disasters_df, initial_sector)\n",
        "\n",
        "# Define colors\n",
        "colors = px.colors.qualitative.T10\n",
        "\n",
        "# Create the initial bar plot\n",
        "fig = go.Figure(data=[\n",
        "    go.Bar(name='Individual Disasters', x=disaster_types, y=correlations, marker_color=colors),\n",
        "    go.Bar(name='All Disasters', x=['All Disasters'], y=[all_disasters_correlation], marker_color=colors[1])\n",
        "])\n",
        "\n",
        "fig.update_layout(\n",
        "    title=f'Pearson correlatie over diverse sectoren',\n",
        "    xaxis_title='Ramptype',\n",
        "    yaxis_title='Pearson correlatiecoëfficiënt',\n",
        "    barmode='group',\n",
        "    showlegend=False  # Remove the legend\n",
        ")\n",
        "\n",
        "# Create the dropdown menu\n",
        "dropdown_buttons = [\n",
        "    dict(label=sector,\n",
        "         method='update',\n",
        "         args=[{\n",
        "             'y': [calculate_pearson(ghg_ex_df, nd_ex_df, sector),\n",
        "                   [calculate_all_disasters_pearson(ghg_ex_df, nd_all_disasters_df, sector)]],\n",
        "             'marker': [\n",
        "                 {'color': colors[:len(disaster_types)]},  # Colors for individual disasters\n",
        "                 {'color': [colors[1]]}  # Color for all disasters\n",
        "             ],\n",
        "             'title': f'Pearson Correlation for {sector} Sector'\n",
        "         }])\n",
        "    for sector in sectors\n",
        "]\n",
        "\n",
        "fig.update_layout(\n",
        "    updatemenus=[\n",
        "        dict(\n",
        "            buttons=dropdown_buttons,\n",
        "            direction='down',\n",
        "            pad={'r': 10, 't': 10},\n",
        "            showactive=True,\n",
        "            x=0.1,\n",
        "            xanchor='left',\n",
        "            y=1.1,\n",
        "            yanchor='top'\n",
        "        )\n",
        "    ]\n",
        ")\n",
        "\n",
        "fig.show()"
      ]
    },
    {
      "cell_type": "markdown",
      "metadata": {},
      "source": [
        "> Figuur 5: De grafieken tonen de Pearson-correlatiecoëfficiënten voor verschillende rampen en hun impact op diverse sectoren. Met de knop kun je selecteren welke sector je wilt bekijken.\n",
        "\n",
        "Extreem weer en overstromingen hebben consequent de hoogste positieve correlaties in meerdere sectoren, waaronder landbouw, brandstofwinning, industriële verbranding, de energiesector, processen, transport en afval. Dit wijst erop dat deze rampen de grootste invloed hebben op deze sectoren. In de landbouwsector vertonen extreem weer en overstromingen de grootste impact, terwijl droogte een gematigde positieve correlatie heeft. Bij gebouwen zijn aardbevingen en extreem weer het meest invloedrijk. Over het geheel genomen benadrukken de grafieken dat extreem weer en overstromingen de grootste bedreigingen vormen voor diverse economische sectoren, wat cruciale informatie biedt voor beleidsmakers en onderzoekers bij het ontwikkelen van veerkracht strategieën.\n",
        "\n",
        "### Is er een relatie?"
      ]
    },
    {
      "cell_type": "code",
      "execution_count": null,
      "metadata": {
        "tags": [
          "remove-input"
        ],
        "vscode": {
          "languageId": "plaintext"
        }
      },
      "outputs": [],
      "source": [
        "fig = go.Figure()\n",
        "fig.add_trace(go.Scatter(\n",
        "    x=merged_all_df['Emissions'], \n",
        "    y=merged_all_df['Disasters'],\n",
        "    mode='markers', \n",
        "    name='Verband tussen broeikasgasemissies en aantal natuurrampen',\n",
        "    marker=dict(\n",
        "        color=merged_all_df['Year'], \n",
        "        size=10, \n",
        "        colorscale='Viridis', \n",
        "        showscale=True\n",
        "    )\n",
        "))\n",
        "\n",
        "# Update layout\n",
        "fig.update_layout(\n",
        "    title='Verband tussen broeikasgasemissies en aantal natuurrampen',\n",
        "    xaxis_title='Emissies',\n",
        "    yaxis_title='Rampen',\n",
        "    template='plotly_white'\n",
        ")\n",
        "\n",
        "# Show figure\n",
        "fig.show()"
      ]
    },
    {
      "cell_type": "markdown",
      "metadata": {},
      "source": [
        "> Figuur 6: Deze grafiek toont de relatie tussen jaarlijkse broeikasgasemissies en het aantal natuurrampen van 1970 tot 2022.<br> Elk punt vertegenwoordigt een jaar, waarbij de kleurgradaties de tijdsprogressie aangeven."
      ]
    }
  ],
  "metadata": {
    "language_info": {
      "name": "python"
    }
  },
  "nbformat": 4,
  "nbformat_minor": 2
}
